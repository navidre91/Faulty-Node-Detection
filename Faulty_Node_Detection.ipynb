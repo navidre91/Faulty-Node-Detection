{
  "nbformat": 4,
  "nbformat_minor": 0,
  "metadata": {
    "colab": {
      "name": "Faulty Node Detection.ipynb",
      "provenance": [],
      "collapsed_sections": [],
      "include_colab_link": true
    },
    "kernelspec": {
      "name": "python3",
      "display_name": "Python 3"
    }
  },
  "cells": [
    {
      "cell_type": "markdown",
      "metadata": {
        "id": "view-in-github",
        "colab_type": "text"
      },
      "source": [
        "<a href=\"https://colab.research.google.com/github/navidre91/Faulty-Node-Detection/blob/master/Faulty_Node_Detection.ipynb\" target=\"_parent\"><img src=\"https://colab.research.google.com/assets/colab-badge.svg\" alt=\"Open In Colab\"/></a>"
      ]
    },
    {
      "cell_type": "code",
      "metadata": {
        "id": "RgU90tkX4UZA",
        "colab_type": "code",
        "colab": {}
      },
      "source": [
        "from sympy import Symbol, Matrix\n",
        "from sympy import *\n",
        "from sympy.matrices import *\n",
        "import numpy as np\n",
        "import matplotlib.pyplot as plt\n",
        "from google.colab import files\n",
        "import random\n",
        "from numpy.linalg import matrix_power\n",
        "from numpy import linalg as LA\n",
        "from scipy import linalg"
      ],
      "execution_count": null,
      "outputs": []
    },
    {
      "cell_type": "markdown",
      "metadata": {
        "id": "jmMUIldP4mrZ",
        "colab_type": "text"
      },
      "source": [
        "Simulating a Healthy network italicized text"
      ]
    },
    {
      "cell_type": "code",
      "metadata": {
        "id": "VYYife0Z4t2v",
        "colab_type": "code",
        "colab": {
          "base_uri": "https://localhost:8080/",
          "height": 269
        },
        "outputId": "0490f43b-aec1-4384-93a6-556e8ebc214d"
      },
      "source": [
        "N=50;\n",
        "L =np.array([[10.0,10.0,45.0,24.0],[20.0,30.0,40.0,50.0],[40.0,10.0,25.0,60.0],[50.0,50.0,40.0,80.0]])\n",
        "L= L+L.T\n",
        "L_DS = L\n",
        "\n",
        "L_DS[0,:] = L[0,:]/np.sum(L[0,:])\n",
        "L_DS[:,0] = L_DS[0,:]; \n",
        "\n",
        "L_DS[1,1:4] = L[1,1:4]/np.sum(L[1,1:4]) - L_DS[1,0]/3\n",
        "L_DS[1:4,1] = L_DS[1,1:4]\n",
        "\n",
        "L_DS[2,2:4] = L[2,2:4]/np.sum(L[2,2:4]) - (L_DS[2,0]+L_DS[2,1])/2\n",
        "L_DS[2:4,2] = L_DS[2,2:4]\n",
        "\n",
        "L_DS[3,3]= 1 - (L_DS[3,0]+L_DS[3,1] + L_DS[3,2])\n",
        "\n",
        "\n",
        "X0 = np.array([[10],[20],[30],[40]])\n",
        "X=X0\n",
        "X_rec= X0\n",
        "for i in range(N):\n",
        "  X=np.dot(L,X)\n",
        "  X_rec=np.hstack((X_rec,X))\n",
        "for i in range(L.shape[1]):\n",
        "  plt.plot(X_rec[i,:])\n",
        "  \n",
        "  \n",
        "plt.show()"
      ],
      "execution_count": null,
      "outputs": [
        {
          "output_type": "display_data",
          "data": {
            "image/png": "[encoded data removed]",
            "text/plain": [
              "<Figure size 432x288 with 1 Axes>"
            ]
          },
          "metadata": {
            "tags": []
          }
        }
      ]
    },
    {
      "cell_type": "markdown",
      "metadata": {
        "id": "7KKq_IAWJMuZ",
        "colab_type": "text"
      },
      "source": [
        "Simulating Network with a faulty node"
      ]
    },
    {
      "cell_type": "code",
      "metadata": {
        "id": "YjPeK1cuJXqY",
        "colab_type": "code",
        "colab": {
          "base_uri": "https://localhost:8080/",
          "height": 269
        },
        "outputId": "8b6c327b-d8df-4c54-abfa-17d321f5148f"
      },
      "source": [
        "N=50;\n",
        "L =np.array([[10.0,10.0,45.0,24.0],[20.0,30.0,40.0,50.0],[40.0,10.0,25.0,60.0],[50.0,50.0,40.0,80.0]])\n",
        "L= L+L.T\n",
        "L_DS = L\n",
        "\n",
        "L_DS[0,:] = L[0,:]/np.sum(L[0,:])\n",
        "L_DS[:,0] = L_DS[0,:]; \n",
        "\n",
        "L_DS[1,1:4] = L[1,1:4]/np.sum(L[1,1:4]) - L_DS[1,0]/3\n",
        "L_DS[1:4,1] = L_DS[1,1:4]\n",
        "\n",
        "L_DS[2,2:4] = L[2,2:4]/np.sum(L[2,2:4]) - (L_DS[2,0]+L_DS[2,1])/2\n",
        "L_DS[2:4,2] = L_DS[2,2:4]\n",
        "\n",
        "L_DS[3,3]= 1 - (L_DS[3,0]+L_DS[3,1] + L_DS[3,2])\n",
        "\n",
        "\n",
        "X0 = np.array([[10],[20],[30],[40]])\n",
        "X=X0\n",
        "X_rec= X0\n",
        "for i in range(N):\n",
        "  Y=X\n",
        "  \n",
        "  if 20<i and 30>i:\n",
        "    Y[0] = Y[0]+ np.random.normal(0, 10, 1)\n",
        "  X=np.dot(L,Y)\n",
        "  X_rec=np.hstack((X_rec,X))\n",
        "  \n",
        "  \n",
        "  \n",
        "for i in range(L.shape[1]):\n",
        "  plt.plot(X_rec[i,:])\n",
        "  \n",
        "  \n",
        "plt.show()"
      ],
      "execution_count": null,
      "outputs": [
        {
          "output_type": "display_data",
          "data": {
            "image/png": "[encoded data removed]",
            "text/plain": [
              "<Figure size 432x288 with 1 Axes>"
            ]
          },
          "metadata": {
            "tags": []
          }
        }
      ]
    },
    {
      "cell_type": "code",
      "metadata": {
        "id": "-Z72hy3G_uBd",
        "colab_type": "code",
        "colab": {
          "base_uri": "https://localhost:8080/",
          "height": 35
        },
        "outputId": "1f7b22d3-f1b3-4c7a-b6d4-54fff4c9b496"
      },
      "source": [
        "print(np.random.normal(0, 1, 1))"
      ],
      "execution_count": null,
      "outputs": [
        {
          "output_type": "stream",
          "text": [
            "[1.18691162]\n"
          ],
          "name": "stdout"
        }
      ]
    },
    {
      "cell_type": "markdown",
      "metadata": {
        "id": "395HC8nKU8rm",
        "colab_type": "text"
      },
      "source": [
        "Making a double stochastic matrix"
      ]
    },
    {
      "cell_type": "code",
      "metadata": {
        "id": "quGMRzAjVCpa",
        "colab_type": "code",
        "colab": {
          "base_uri": "https://localhost:8080/",
          "height": 104
        },
        "outputId": "bc042b40-0e1c-4ada-8342-e01f912ee455"
      },
      "source": [
        "dt=0.01;\n",
        "L=np.array([[2,-1,0,-1],[-1,2,-1,0],[0,-1,2,-1],[-1,0,-1,2]])\n",
        "\n",
        "Ldis=linalg.expm(-L*dt)\n",
        "w, v = LA.eig(Ldis)\n",
        "print(w)\n",
        "print(v)"
      ],
      "execution_count": null,
      "outputs": [
        {
          "output_type": "stream",
          "text": [
            "[1.         0.98019867 0.96078944 0.98019867]\n",
            "[[-5.00000000e-01 -7.07106781e-01 -5.00000000e-01 -2.21684296e-03]\n",
            " [-5.00000000e-01  1.20422375e-14  5.00000000e-01 -7.07103306e-01]\n",
            " [-5.00000000e-01  7.07106781e-01 -5.00000000e-01  2.21684296e-03]\n",
            " [-5.00000000e-01 -4.85830600e-15  5.00000000e-01  7.07103306e-01]]\n"
          ],
          "name": "stdout"
        }
      ]
    },
    {
      "cell_type": "code",
      "metadata": {
        "id": "Ab-wcT9yYZyC",
        "colab_type": "code",
        "colab": {
          "base_uri": "https://localhost:8080/",
          "height": 269
        },
        "outputId": "ecacdd59-d9bb-428d-b8cb-cd83d74478ee"
      },
      "source": [
        "N=500;\n",
        "\n",
        "X0 = np.array([[10],[20],[30],[40]])\n",
        "X=X0\n",
        "X_rec= X0\n",
        "for i in range(N):\n",
        "  \n",
        "  X=np.dot(Ldis,X)\n",
        "  X_rec=np.hstack((X_rec,X))\n",
        "  \n",
        "  \n",
        "  \n",
        "for i in range(L.shape[1]):\n",
        "  plt.plot(X_rec[i,:])\n",
        "  \n",
        "  \n",
        "plt.show()\n",
        " "
      ],
      "execution_count": null,
      "outputs": [
        {
          "output_type": "display_data",
          "data": {
            "image/png": "[encoded data removed]",
            "text/plain": [
              "<Figure size 432x288 with 1 Axes>"
            ]
          },
          "metadata": {
            "tags": []
          }
        }
      ]
    },
    {
      "cell_type": "markdown",
      "metadata": {
        "id": "_enylLJzbGT7",
        "colab_type": "text"
      },
      "source": [
        "Test Samples"
      ]
    },
    {
      "cell_type": "code",
      "metadata": {
        "id": "ho1rWYVNZDco",
        "colab_type": "code",
        "colab": {
          "base_uri": "https://localhost:8080/",
          "height": 35
        },
        "outputId": "f55830cd-020d-4ee0-8a18-deb8f70ff5f9"
      },
      "source": [
        "A=np.array([[1],[2]])\n",
        "print(A.shape[0])"
      ],
      "execution_count": null,
      "outputs": [
        {
          "output_type": "stream",
          "text": [
            "2\n"
          ],
          "name": "stdout"
        }
      ]
    }
  ]
}